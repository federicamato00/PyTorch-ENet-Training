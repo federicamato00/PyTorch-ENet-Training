{
  "nbformat": 4,
  "nbformat_minor": 0,
  "metadata": {
    "colab": {
      "provenance": [],
      "gpuType": "T4",
      "authorship_tag": "ABX9TyOC8p2oKvHJJYKr+ontmSJA",
      "include_colab_link": true
    },
    "kernelspec": {
      "name": "python3",
      "display_name": "Python 3"
    },
    "language_info": {
      "name": "python"
    },
    "accelerator": "GPU"
  },
  "cells": [
    {
      "cell_type": "markdown",
      "metadata": {
        "id": "view-in-github",
        "colab_type": "text"
      },
      "source": [
        "<a href=\"https://colab.research.google.com/github/federicamato00/PyTorch-ENet-Training/blob/master/Training_ENet.ipynb\" target=\"_parent\"><img src=\"https://colab.research.google.com/assets/colab-badge.svg\" alt=\"Open In Colab\"/></a>"
      ]
    },
    {
      "cell_type": "code",
      "source": [
        "!git clone https://github.com/federicamato00/PyTorch-ENet-Training.git\n",
        "\n",
        "\n"
      ],
      "metadata": {
        "id": "dDzMjT4UOX_x"
      },
      "execution_count": null,
      "outputs": []
    },
    {
      "cell_type": "code",
      "source": [
        "%cd /content/PyTorch-ENet-Training/data\n",
        "#Download Cityscapes Dataset\n",
        "!python -m pip install cityscapesscripts\n",
        "!csDownload leftImg8bit_trainvaltest.zip\n",
        "!csDownload gtFine_trainvaltest.zip"
      ],
      "metadata": {
        "id": "r5xu35MZNrXq"
      },
      "execution_count": null,
      "outputs": []
    },
    {
      "cell_type": "code",
      "source": [
        "%mkdir /content/PyTorch-ENet-Training/data/Cityscapes/\n",
        "%cd /content/PyTorch-ENet-Training/data\n",
        "\n"
      ],
      "metadata": {
        "id": "P5zFtP_COaMA"
      },
      "execution_count": null,
      "outputs": []
    },
    {
      "cell_type": "code",
      "source": [
        "\n",
        "!unzip leftImg8bit_trainvaltest.zip -d /content/PyTorch-ENet-Training/data/Cityscapes/\n",
        "!unzip gtFine_trainvaltest.zip -d /content/PyTorch-ENet-Training/data/Cityscapes/"
      ],
      "metadata": {
        "id": "7xFTbvWpOcsC"
      },
      "execution_count": null,
      "outputs": []
    },
    {
      "cell_type": "code",
      "source": [
        "%cd /content/PyTorch-ENet-Training/data/Cityscapes\n",
        "!CITYSCAPES_DATASET='.' csCreateTrainIdLabelImgs\n",
        "%cd /content/PyTorch-ENet-Training\n",
        "!pip install visdom\n",
        "%mkdir /content/PyTorch-ENet-Training/save/final_model"
      ],
      "metadata": {
        "id": "qkHdZw1gOfoo"
      },
      "execution_count": null,
      "outputs": []
    },
    {
      "cell_type": "code",
      "source": [
        "!python main.py -m train --save-dir /content/PyTorch-ENet-Training/save/final_model/ --name ENet --dataset cityscapes --dataset-dir /content/PyTorch-ENet-Training/data/Cityscapes/ --with-unlabeled\n",
        "\n"
      ],
      "metadata": {
        "id": "zTcDk6n-OiHg"
      },
      "execution_count": null,
      "outputs": []
    }
  ]
}